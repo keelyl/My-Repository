{
 "metadata": {
  "name": "",
  "signature": "sha256:91948972a63a89f7fd5eab0716bb4daf868a0500c062d0cf7fb181de79d899f3"
 },
 "nbformat": 3,
 "nbformat_minor": 0,
 "worksheets": [
  {
   "cells": [
    {
     "cell_type": "markdown",
     "metadata": {},
     "source": [
      "<font color = \"indigo\"><b>====SEAGRASS SURVIVAL AND REPRODUCTION=======================================================</b></font>\n",
      "\n",
      "<u>Background</u><br>\n",
      "Seagrass beds are important coastal ecosystems that provide valuable services to terrestrial inhabitants and vital habitat for marine life. Without going into much detail, seagrass meadows provide food for manatees and habitat and nursery areas for fish and invertebrates. They also anchor sediment that could otherwise be thrown about by wind and wave action. The fisheries in areas where seagrass grows owe much of their livelihood to the seagrass meadows where the fish can spend over 70% of their lives.\n",
      "\n",
      "Unfortunately, in the past century, warmer water temperatures and algal blooms (due to increased nitrogen pollution) have reduced or eliminated many seagrass meadows along the U.S. coastline. There have been many efforts to reestablish the seagrass, but programs have had inconsistent outcomes.\n",
      "\n",
      "<font color = \"#FF3300\"><b>Question 1:</b></font> How does algae affect the survival and spread of seagrass, an aquatic plant whose depth range is limited by light levels, which is limited by water depth and clarity?\n",
      "\n",
      "<font color = \"#FF3300\"><b>Question 2:</b></font> How is the spread of seagrass affected by topography?\n"
     ]
    },
    {
     "cell_type": "markdown",
     "metadata": {},
     "source": [
      "1. CONCEPTION \n",
      "    a) Space = \n",
      "            Grid area nxn size\n",
      "                (50m x 50m; 1m x 1m grid cell size? (I'm not sure about the exact size or cell size right now))\n",
      "            elevation ~ derived from a digital elevation model or somehow created within the model.\n",
      "                + means above water\n",
      "                0 means at water line\n",
      "                - means underwater\n",
      "            # agents per cell ~ 1\n",
      "            light penetration depth (float between -20 and 0)\n",
      "                calculated from elevation and algae density\n",
      "                cells with elevation >= 0 have default light penetration depth of 0\n",
      "\n",
      "    b) Agents = seagrass plants\n",
      "            Traits:\n",
      "                Maximum number of agents\n",
      "                Tolerance levels\n",
      "                Elevation ~ cannot survive or spread to a cell at elevation >= 0\n",
      "                Light penetration ~ cannot spread to a cell where light penetration > elevation\n",
      "            Chance for sexual reproduction to create 1 daughter plant at random, empty, valid location in the grid\n",
      "            \n",
      "\n",
      "    c) Norm/Institution\n",
      "            Agents can create a maximum of 1 daughter plant each turn\n",
      "            Daughter plants cannot create daughter plants until the turn after they are created (when they are age 1)\n",
      "            \n",
      "            \n",
      "\n",
      "2. INITIAL CONDITIONS\n",
      "    a) Fixed\n",
      "            Algae density (not sure if different values by cell or all cells = same value and on/of)\n",
      "                (may include a slider for different levels to observe the limiting effect on seagrass spread)\n",
      "            Neighborhoods include the 8 surrounding cells\n",
      "            Number of initial agents\n",
      "            RSLR = Rate of sea level rise (seen in model as change in elevation relative to sea level)\n",
      "            All initial agents have age = 0\n",
      "            \n",
      "    b) Rules & Random\n",
      "            Place set number of agents randomly through out the space. For each agent:\n",
      "                - pick a set of random x and y coordinates within the grid area\n",
      "                - check the cell:\n",
      "                    if elevation >= 0: pick a new spot\n",
      "                    if light penetration > elevation: pick a new spot\n",
      "            \n",
      "\n",
      "3. STEPS & DYNAMICS - \n",
      "    a) for space\n",
      "        i) Decrease elevation value for each cell by rate of sea level rise\n",
      "        ii) Calculate new light penetration depth for all cells \n",
      "        iii)\n",
      "        \n",
      "    b) for agents\n",
      "        i) \n",
      "        ii) Check the light penetration depth of neighboring cells\n",
      "        iii) Check the elevation of neighboring cells\n",
      "        iv) \n",
      "\n"
     ]
    },
    {
     "cell_type": "code",
     "collapsed": false,
     "input": [
      "#Setting up modules\n",
      "import numpy"
     ],
     "language": "python",
     "metadata": {},
     "outputs": [],
     "prompt_number": 167
    },
    {
     "cell_type": "code",
     "collapsed": false,
     "input": [
      "amatrix = numpy.full((5,5),numpy.nan)\n",
      "amatrix[1][1]"
     ],
     "language": "python",
     "metadata": {},
     "outputs": [
      {
       "metadata": {},
       "output_type": "pyout",
       "prompt_number": 157,
       "text": [
        "nan"
       ]
      }
     ],
     "prompt_number": 157
    },
    {
     "cell_type": "code",
     "collapsed": false,
     "input": [
      "class Plant():\n",
      "    \"\"\"\n",
      "    Plant class, which encapsulates the entire behavior of a plant (the agent).\n",
      "    \"\"\"\n",
      "    def __init__(self, model, plant_id, prob_daughter=0.7):\n",
      "        self.model = model\n",
      "        self.plant_id = plant_id\n",
      "        self.prob_daughter = prob_daughter\n",
      "    \n",
      "    def get_position(self):\n",
      "        \"\"\"\n",
      "        Returns xy position, calling through model.\n",
      "        \"\"\"\n",
      "        return self.model.get_plant_position(self.plant_id)\n",
      "    \n",
      "    def get_neighbors(self):\n",
      "        \"\"\"\n",
      "        Return neighbors, calling through model.\n",
      "        \"\"\"\n",
      "        return self.model.get_plant_neighbors(self.plant_id)\n",
      "    \n",
      "#If there were traits that went to daughters, then that would be here. But we don't. So making daughters goes in model.   \n",
      "    "
     ],
     "language": "python",
     "metadata": {},
     "outputs": [],
     "prompt_number": 119
    },
    {
     "cell_type": "code",
     "collapsed": false,
     "input": [
      "#Create a space class\n",
      "#create a plant class\n",
      "#try my methods that I just made. \n",
      "# set a plant, kill it, raise sealevel\n",
      "#stop thinking"
     ],
     "language": "python",
     "metadata": {},
     "outputs": [],
     "prompt_number": 116
    },
    {
     "cell_type": "markdown",
     "metadata": {},
     "source": [
      "#Model Class\n",
      "\n",
      "Below, I define my model class. It is broken up as follows (in progress):]\n"
     ]
    },
    {
     "cell_type": "code",
     "collapsed": false,
     "input": [
      "class Model():\n",
      "    \"\"\"\n",
      "    Model class\n",
      "    \"\"\"\n",
      "    def __init__(self, num_plants = 5, algae_density = 0, \n",
      "                 rate_sea_level_rise = 0.5, min_prob_daughter = 0.0, max_prob_daughter = 1.0):\n",
      "        \"\"\"\n",
      "        Class constructor\n",
      "        \"\"\"\n",
      "        # Set model parameters.\n",
      "        self.num_plants = num_plants\n",
      "        self.algae_density = algae_density\n",
      "        self.rate_sea_level_rise = rate_sea_level_rise\n",
      "        self.min_prob_daughter = min_prob_daughter\n",
      "        self.max_prob_daughter = max_prob_daughter\n",
      "#       self.space = Space(model, algae_density, is_occupied)\n",
      "        \n",
      "        # Set state variables\n",
      "        self.plants = []\n",
      "        \n",
      "        # Set history variables\n",
      "        self.history_space_plant = []\n",
      "        self.history_num_daughters = []\n",
      "        self.history_num_deaths = []\n",
      "        \n",
      "        # Call setup methods to initialize space, people, institution\n",
      "        self.setup_space()\n",
      "        self.setup_plants()\n",
      "    \n",
      "    def setup_space(self):\n",
      "        \"\"\"\n",
      "        Method to setup space (1 for agents, 1 for elevation; in this model)\n",
      "        \"\"\"\n",
      "        self.Space.set_plant_array(plant, xpos_p, ypos_p)\n",
      "        \n",
      "        self.space.set_elevation_array(self, elevation, xpos_e, ypos_e)\n",
      "        \n",
      "            \n",
      "    \n",
      "    def setup_plants(self):\n",
      "        \"\"\"\n",
      "        Method to setup plants\n",
      "        \"\"\"\n",
      "        # Step 1, create all the plant agents, but do not place them.\n",
      "        for i in xrange(self.num_plants):\n",
      "            self.plant_list.append(Plant(model=self,\n",
      "                                         plant_id=i,\n",
      "                                         prob_daughter = numpy.random.uniform(self.min_prob_daughter, self.max_prob_daughter)))\n",
      "        \n",
      "        # Step 2, place all the plant agents in space.\n",
      "        for plant in self.plant_list:\n",
      "            # Loop until unique\n",
      "            is_occupied = True\n",
      "            while is_occupied:\n",
      "                # Sample location\n",
      "                \"\"\" This will change if I use placement somehow with a DEM \n",
      "                \"\"\"\n",
      "                random_x = numpy.random.randint(0, self.grid_size)\n",
      "                random_y = numpy.random.randint(0, self.grid_size)\n",
      "                \n",
      "                # Check if unique; if another plant is in that spot\n",
      "                if numpy.isnan(space.get_plant[random_x, random_y]):   #if that location set is NAN (which would be if a plant wasn't there)\n",
      "                    is_occupied = False\n",
      "                else:\n",
      "                    is_occupied = True\n",
      "                \n",
      "            # Place the plant there by setting it as their ID\n",
      "            self.space.space_plant[random_x][random_y] = plant.plant_id\n",
      "            \n",
      "    def get_plant_position(self, plant_id):\n",
      "        \"\"\"\n",
      "        Get the position of a plant based on their ID\n",
      "        \"\"\"\n",
      "        #Find the value that matches our ID in self.space_plant, then reshape to a 2-element list\n",
      "        return numpy.reshape(numpy.where(self.space_plant == plant_id), (2, 1))[0].tolist()\n",
      "#        \n",
      "#    def step_check_elevation(self):\n",
      "#        \"\"\"\n",
      "#        Model step function, which handles checking if a plant can survive in its space anymore.\n",
      "#        \"\"\"\n",
      "#        for i in self.num_plants:\n",
      "#            self.get_plant_position(plant_id)\n",
      "#            \n",
      "#            space.get_elevation(elevation, xpos_e, ypos_e)\n",
      "            \n",
      "#    def step_daughters(self):\n",
      "        \"\"\"\n",
      "        Model step function, which handles the propogation of daughters\n",
      "        \"\"\"\n",
      "        \n",
      "#    def step(self):\n",
      "        \"\"\"\n",
      "        Model step function.\n",
      "        \"\"\"\n",
      "        \n",
      "        # Check light & elevation to see if plant dies\n",
      "#        self.step_check_elevation()\n",
      "        \n",
      "#    def get_space_occupied(self,t=None):\n",
      "        \"\"\"\n",
      "        Return a projection of the space that shows which cells are occupied by seagrass.\n",
      "        \"\"\"\n",
      "        \n",
      "        \n",
      "        "
     ],
     "language": "python",
     "metadata": {},
     "outputs": [],
     "prompt_number": 172
    },
    {
     "cell_type": "code",
     "collapsed": false,
     "input": [
      "class Space():\n",
      "    def __init__(self, model, algae_density, is_occupied = False):\n",
      "        \"\"\"\n",
      "        Define initial space setup\n",
      "        \"\"\"\n",
      "        self.model = model\n",
      "        self.algae_density = algae_density\n",
      "        self.occupied = is_occupied\n",
      "        self.xpos_p = xpos_p\n",
      "        self.ypos_p = ypos_p\n",
      "        self.xpos_e = xpos_e\n",
      "        self.ypos_e = ypos_e\n",
      "    \n",
      "    def set_plant_array(self, plant, xpos_p, ypos_p):\n",
      "        \"\"\"\n",
      "        Makes array for plants, empty until plants are put in\n",
      "        \"\"\"\n",
      "        self.space_plant = numpy.full((572,572),numpy.nan)\n",
      "\n",
      "    def delete_plant(self, plant, xpos_p, ypos_p):       \n",
      "        \"\"\"\n",
      "        Remove a plant from a cell\n",
      "        \"\"\"\n",
      "        spot = self.model.get_plant_position(plant_id)\n",
      "        \n",
      "        # Check target location\n",
      "        if not numpy.isnan(self.space_plant[xpos_p, ypos_p]):\n",
      "            raise ValueError(\"Unable to delete plant {0} from ({1}, {2}) since not occupied.\".format(plant_id, xpos_p, ypos_p)\n",
      "                             \n",
      "        # Otherwise, delete the plant from the cell:\n",
      "        self.space_plant[xpos_p][ypos_p] = numpy.nan               #This is having trouble right now.\n",
      "        \n",
      "    def set_elevation_array(self, elevation):\n",
      "        \"\"\"\n",
      "        Makes array for elevation\n",
      "        \"\"\"\n",
      "        self.space_elevation = numpy.loadtxt(\"C:\\Users\\Keely Ledbetter\\Documents\\Google Drive\\CMPLXSYS_530\\shoreline_ascii.asc\", skiprows=6)\n",
      "        \n",
      "    def get_elevation(self, elevation, xpos_e, ypos_e):\n",
      "        return self.space.get_elevation(self.xpos_e, self.ypos_e)\n",
      "\n",
      "        \n",
      "#2 methods, differesnt variable names, 2 separate arrays, 1 for sealevel, 1 for plant. but they have the same shape.\n",
      "#self.space_agent\n",
      "#self.space_elevation\n",
      "##numpy.array.\n"
     ],
     "language": "python",
     "metadata": {},
     "outputs": [
      {
       "ename": "SyntaxError",
       "evalue": "invalid syntax (<ipython-input-174-854d224360c6>, line 31)",
       "output_type": "pyerr",
       "traceback": [
        "\u001b[1;36m  File \u001b[1;32m\"<ipython-input-174-854d224360c6>\"\u001b[1;36m, line \u001b[1;32m31\u001b[0m\n\u001b[1;33m    self.space_plant[xpos_p][ypos_p] = numpy.nan\u001b[0m\n\u001b[1;37m       ^\u001b[0m\n\u001b[1;31mSyntaxError\u001b[0m\u001b[1;31m:\u001b[0m invalid syntax\n"
       ]
      }
     ],
     "prompt_number": 174
    },
    {
     "cell_type": "code",
     "collapsed": false,
     "input": [
      "# Create model and output\n",
      "m = Model(num_plants = 5, algae_density = 0.0, rate_sea_level_rise = 0.5, min_prob_daughter = 0.0, max_prob_daughter = 1.0)"
     ],
     "language": "python",
     "metadata": {},
     "outputs": [
      {
       "ename": "AttributeError",
       "evalue": "Model instance has no attribute 'Space'",
       "output_type": "pyerr",
       "traceback": [
        "\u001b[1;31m---------------------------------------------------------------------------\u001b[0m\n\u001b[1;31mAttributeError\u001b[0m                            Traceback (most recent call last)",
        "\u001b[1;32m<ipython-input-141-5c077b240f3e>\u001b[0m in \u001b[0;36m<module>\u001b[1;34m()\u001b[0m\n\u001b[0;32m      1\u001b[0m \u001b[1;31m# Create model and output\u001b[0m\u001b[1;33m\u001b[0m\u001b[1;33m\u001b[0m\u001b[0m\n\u001b[1;32m----> 2\u001b[1;33m \u001b[0mm\u001b[0m \u001b[1;33m=\u001b[0m \u001b[0mModel\u001b[0m\u001b[1;33m(\u001b[0m\u001b[0mnum_plants\u001b[0m \u001b[1;33m=\u001b[0m \u001b[1;36m5\u001b[0m\u001b[1;33m,\u001b[0m \u001b[0malgae_density\u001b[0m \u001b[1;33m=\u001b[0m \u001b[1;36m0.0\u001b[0m\u001b[1;33m,\u001b[0m \u001b[0mrate_sea_level_rise\u001b[0m \u001b[1;33m=\u001b[0m \u001b[1;36m0.5\u001b[0m\u001b[1;33m,\u001b[0m \u001b[0mmin_prob_daughter\u001b[0m \u001b[1;33m=\u001b[0m \u001b[1;36m0.0\u001b[0m\u001b[1;33m,\u001b[0m \u001b[0mmax_prob_daughter\u001b[0m \u001b[1;33m=\u001b[0m \u001b[1;36m1.0\u001b[0m\u001b[1;33m)\u001b[0m\u001b[1;33m\u001b[0m\u001b[0m\n\u001b[0m",
        "\u001b[1;32m<ipython-input-140-b7d9e6e753c6>\u001b[0m in \u001b[0;36m__init__\u001b[1;34m(self, num_plants, algae_density, rate_sea_level_rise, min_prob_daughter, max_prob_daughter)\u001b[0m\n\u001b[0;32m     25\u001b[0m \u001b[1;33m\u001b[0m\u001b[0m\n\u001b[0;32m     26\u001b[0m         \u001b[1;31m# Call setup methods to initialize space, people, institution\u001b[0m\u001b[1;33m\u001b[0m\u001b[1;33m\u001b[0m\u001b[0m\n\u001b[1;32m---> 27\u001b[1;33m         \u001b[0mself\u001b[0m\u001b[1;33m.\u001b[0m\u001b[0msetup_space\u001b[0m\u001b[1;33m(\u001b[0m\u001b[1;33m)\u001b[0m\u001b[1;33m\u001b[0m\u001b[0m\n\u001b[0m\u001b[0;32m     28\u001b[0m         \u001b[0mself\u001b[0m\u001b[1;33m.\u001b[0m\u001b[0msetup_plants\u001b[0m\u001b[1;33m(\u001b[0m\u001b[1;33m)\u001b[0m\u001b[1;33m\u001b[0m\u001b[0m\n\u001b[0;32m     29\u001b[0m \u001b[1;33m\u001b[0m\u001b[0m\n",
        "\u001b[1;32m<ipython-input-140-b7d9e6e753c6>\u001b[0m in \u001b[0;36msetup_space\u001b[1;34m(self)\u001b[0m\n\u001b[0;32m     32\u001b[0m         \u001b[0mMethod\u001b[0m \u001b[0mto\u001b[0m \u001b[0msetup\u001b[0m \u001b[0mspace\u001b[0m \u001b[1;33m(\u001b[0m\u001b[1;36m1\u001b[0m \u001b[1;32mfor\u001b[0m \u001b[0magents\u001b[0m\u001b[1;33m,\u001b[0m \u001b[1;36m1\u001b[0m \u001b[1;32mfor\u001b[0m \u001b[0melevation\u001b[0m\u001b[1;33m;\u001b[0m \u001b[1;32min\u001b[0m \u001b[0mthis\u001b[0m \u001b[0mmodel\u001b[0m\u001b[1;33m)\u001b[0m\u001b[1;33m\u001b[0m\u001b[0m\n\u001b[0;32m     33\u001b[0m         \"\"\"\n\u001b[1;32m---> 34\u001b[1;33m         \u001b[0mself\u001b[0m\u001b[1;33m.\u001b[0m\u001b[0mSpace\u001b[0m\u001b[1;33m.\u001b[0m\u001b[0mset_plant_array\u001b[0m\u001b[1;33m(\u001b[0m\u001b[0mplant\u001b[0m\u001b[1;33m,\u001b[0m \u001b[0mxpos_p\u001b[0m\u001b[1;33m,\u001b[0m \u001b[0mypos_p\u001b[0m\u001b[1;33m)\u001b[0m\u001b[1;33m\u001b[0m\u001b[0m\n\u001b[0m\u001b[0;32m     35\u001b[0m \u001b[1;33m\u001b[0m\u001b[0m\n\u001b[0;32m     36\u001b[0m         \u001b[0mself\u001b[0m\u001b[1;33m.\u001b[0m\u001b[0mspace\u001b[0m\u001b[1;33m.\u001b[0m\u001b[0mset_elevation_array\u001b[0m\u001b[1;33m(\u001b[0m\u001b[0mself\u001b[0m\u001b[1;33m,\u001b[0m \u001b[0melevation\u001b[0m\u001b[1;33m,\u001b[0m \u001b[0mxpos_e\u001b[0m\u001b[1;33m,\u001b[0m \u001b[0mypos_e\u001b[0m\u001b[1;33m)\u001b[0m\u001b[1;33m\u001b[0m\u001b[0m\n",
        "\u001b[1;31mAttributeError\u001b[0m: Model instance has no attribute 'Space'"
       ]
      }
     ],
     "prompt_number": 141
    },
    {
     "cell_type": "code",
     "collapsed": false,
     "input": [
      "# Step over the model for a few steps\n",
      "for i in xrange(10):\n",
      "    # Step\n",
      "    m.step()\n",
      "    \n",
      "    # Update every <#> steps\n",
      "#    if i % 100 == 0:\n",
      "#        print((m.t, m.get_num_plants(), m.num_daughters(), << other things >>))"
     ],
     "language": "python",
     "metadata": {},
     "outputs": [
      {
       "ename": "NameError",
       "evalue": "name 'm' is not defined",
       "output_type": "pyerr",
       "traceback": [
        "\u001b[1;31m---------------------------------------------------------------------------\u001b[0m\n\u001b[1;31mNameError\u001b[0m                                 Traceback (most recent call last)",
        "\u001b[1;32m<ipython-input-134-b002e8ccdcbc>\u001b[0m in \u001b[0;36m<module>\u001b[1;34m()\u001b[0m\n\u001b[0;32m      2\u001b[0m \u001b[1;32mfor\u001b[0m \u001b[0mi\u001b[0m \u001b[1;32min\u001b[0m \u001b[0mxrange\u001b[0m\u001b[1;33m(\u001b[0m\u001b[1;36m10\u001b[0m\u001b[1;33m)\u001b[0m\u001b[1;33m:\u001b[0m\u001b[1;33m\u001b[0m\u001b[0m\n\u001b[0;32m      3\u001b[0m     \u001b[1;31m# Step\u001b[0m\u001b[1;33m\u001b[0m\u001b[1;33m\u001b[0m\u001b[0m\n\u001b[1;32m----> 4\u001b[1;33m     \u001b[0mm\u001b[0m\u001b[1;33m.\u001b[0m\u001b[0mstep\u001b[0m\u001b[1;33m(\u001b[0m\u001b[1;33m)\u001b[0m\u001b[1;33m\u001b[0m\u001b[0m\n\u001b[0m\u001b[0;32m      5\u001b[0m \u001b[1;33m\u001b[0m\u001b[0m\n\u001b[0;32m      6\u001b[0m     \u001b[1;31m# Update every <#> steps\u001b[0m\u001b[1;33m\u001b[0m\u001b[1;33m\u001b[0m\u001b[0m\n",
        "\u001b[1;31mNameError\u001b[0m: name 'm' is not defined"
       ]
      }
     ],
     "prompt_number": 134
    },
    {
     "cell_type": "heading",
     "level": 4,
     "metadata": {},
     "source": [
      "<font color = \"red\"> <b> HOW TO READ A RASTER (converted to ASCII (.asc)) AND CREATE AN ARRAY FROM IT.</b><br></font>\n",
      "<br> <br>\n",
      "\n",
      "dem_array = np.loadtxt(\"C:\\Users\\Keely Ledbetter\\Documents\\Google Drive\\CMPLXSYS_530\\shoreline_ascii.asc\", skiprows=6)\n",
      "                                                                                                         dem_array.shape\n",
      "                          "
     ]
    },
    {
     "cell_type": "code",
     "collapsed": false,
     "input": [
      "dem_array = np.loadtxt(\"C:\\Users\\Keely Ledbetter\\Documents\\Google Drive\\CMPLXSYS_530\\shoreline_ascii.asc\", skiprows=6)\n",
      "dem_array.shape"
     ],
     "language": "python",
     "metadata": {},
     "outputs": [
      {
       "metadata": {},
       "output_type": "pyout",
       "prompt_number": 45,
       "text": [
        "(572L, 572L)"
       ]
      }
     ],
     "prompt_number": 45
    },
    {
     "cell_type": "code",
     "collapsed": false,
     "input": [
      "##To figure out how to read in a raster (converted to ASCII) and be able to reference lists of lists.\n",
      "\n",
      "f = open(r\"C:\\Users\\Keely Ledbetter\\Documents\\Google Drive\\CMPLXSYS_530\\testing_raster.txt\")\n",
      "test_rast1 = []\n",
      "test_rast2 = []\n",
      "test_rast3 = []\n",
      "for line in f:\n",
      "    test_rast1.append(line)\n",
      "#print test_rast1[100]\n",
      "for item in test_rast1:\n",
      "    test_rast2 = []\n",
      "    test_rast2.append(item.split())\n",
      "    test_rast3.extend(test_rast2)\n",
      "#print test_rast3[0][0]\n",
      "len(test_rast3[:][0])\n",
      "#print len(test_rast1)\n",
      "#print test_rast1[0]\n",
      "#print type(test_rast1[0])\n",
      "#print test_rast1[0]\n",
      "#print len(test_rast3[0])\n",
      "#print len(test_rast3[0][0])\n",
      "test_array = np.array(test_rast3)\n",
      "print test_array\n",
      "print test_array.shape     ### Gives array dimensions\n",
      "\n",
      "print test_rast3[0:3][:]"
     ],
     "language": "python",
     "metadata": {},
     "outputs": [
      {
       "ename": "SyntaxError",
       "evalue": "invalid syntax (<ipython-input-65-a05d477ca613>, line 26)",
       "output_type": "pyerr",
       "traceback": [
        "\u001b[1;36m  File \u001b[1;32m\"<ipython-input-65-a05d477ca613>\"\u001b[1;36m, line \u001b[1;32m26\u001b[0m\n\u001b[1;33m    print test_rast3[0:3][:]n\u001b[0m\n\u001b[1;37m                            ^\u001b[0m\n\u001b[1;31mSyntaxError\u001b[0m\u001b[1;31m:\u001b[0m invalid syntax\n"
       ]
      }
     ],
     "prompt_number": 65
    },
    {
     "cell_type": "code",
     "collapsed": false,
     "input": [
      "f = open(r\"C:\\Users\\Keely Ledbetter\\Documents\\Google Drive\\CMPLXSYS_530\\Shoreline_ASCII_nohead.txt\")\n",
      "test_rast1 = []\n",
      "test_rast2 = []\n",
      "test_rast3 = []\n",
      "for line in f:\n",
      "    test_rast1.append(line)\n",
      "#print test_rast1[100]\n",
      "for item in test_rast1:\n",
      "    test_rast2 = []\n",
      "    test_rast2.append(item.split())\n",
      "    test_rast3.extend(test_rast2)\n",
      "print test_rast3[0][0]\n",
      "#len(test_rast3[0][:])\n",
      "dem_array = np.array(test_rast3)\n",
      "print dem_array.shape\n",
      "print test_rast3[0:3][:]"
     ],
     "language": "python",
     "metadata": {},
     "outputs": [
      {
       "ename": "SyntaxError",
       "evalue": "invalid syntax (<ipython-input-64-63f7bbafc311>, line 16)",
       "output_type": "pyerr",
       "traceback": [
        "\u001b[1;36m  File \u001b[1;32m\"<ipython-input-64-63f7bbafc311>\"\u001b[1;36m, line \u001b[1;32m16\u001b[0m\n\u001b[1;33m    print test_rast3[0:3][:]b\u001b[0m\n\u001b[1;37m                            ^\u001b[0m\n\u001b[1;31mSyntaxError\u001b[0m\u001b[1;31m:\u001b[0m invalid syntax\n"
       ]
      }
     ],
     "prompt_number": 64
    },
    {
     "cell_type": "code",
     "collapsed": false,
     "input": [
      "testarray = np.array([[3,3,3],[2,2,2],[1,1,1]])\n",
      "testarray.shape\n",
      "testarray[0:3][:]"
     ],
     "language": "python",
     "metadata": {},
     "outputs": [
      {
       "metadata": {},
       "output_type": "pyout",
       "prompt_number": 40,
       "text": [
        "array([[3, 3, 3],\n",
        "       [2, 2, 2],\n",
        "       [1, 1, 1]])"
       ]
      }
     ],
     "prompt_number": 40
    },
    {
     "cell_type": "code",
     "collapsed": false,
     "input": [
      "#counting and taking off the rows in the ASCII??\n",
      "\n",
      "f = open(r\"C:\\Users\\Keely Ledbetter\\Documents\\Google Drive\\CMPLXSYS_530\\Shoreline_ASCII_nohead.txt\")\n",
      "num_a = 0\n",
      "num_b = 0\n",
      "i = 0\n",
      "for line in f:\n",
      "    num_a += 1\n",
      "    line.split()\n",
      "    while i < 1:\n",
      "        for item in line.split():\n",
      "            num_b += 1\n",
      "            i += 1\n",
      "print num_a\n",
      "print num_b"
     ],
     "language": "python",
     "metadata": {},
     "outputs": [
      {
       "output_type": "stream",
       "stream": "stdout",
       "text": [
        "23645\n",
        "1088\n"
       ]
      }
     ],
     "prompt_number": 12
    },
    {
     "cell_type": "markdown",
     "metadata": {},
     "source": [
      "Questions for Mike.\n",
      "1. Do I want the coordinates of grid cells to match the coordinates of agent locations?\n",
      "Yes."
     ]
    },
    {
     "cell_type": "markdown",
     "metadata": {},
     "source": [
      "#Notes:\n",
      "    Clipped raster using a created square polygon shapefile.\n",
      "    Had to take out row to change extent from col = 4728, row = 4729 to col=4728, row=4728\n",
      "    \n",
      "    source: http://www.ngdc.noaa.gov/dem/squareCellGrid/download/449\n",
      "    http://catalog.data.gov/dataset/digital-elevation-models-from-noaa-ngdc"
     ]
    }
   ],
   "metadata": {}
  }
 ]
}